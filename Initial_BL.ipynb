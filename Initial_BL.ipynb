{
 "cells": [
  {
   "cell_type": "code",
   "execution_count": null,
   "id": "initial_id",
   "metadata": {
    "collapsed": true,
    "is_executing": true
   },
   "outputs": [],
   "source": [
    "import yfinance as yf\n",
    "import pypfopt as opt\n",
    "from pypfopt import plotting\n",
    "import pandas as pd\n",
    "import seaborn as sns\n",
    "import numpy as np\n",
    "\n",
    "from datetime import datetime\n",
    "from dateutil.relativedelta import relativedelta\n",
    "from matplotlib import pyplot as plt\n",
    "\n",
    "headers = ['Company name', 'Stock symbol', 'Currency', 'Current price', 'Buy/sell', 'Buy/sell price', 'Qty. shares', 'Buy/sell date', 'Target price', 'Stop loss', 'Country', 'Sector', 'Ghosal sector', 'Weight', 'Standardised current price', 'Standardised buy/sell price', 'P&L', 'Return']\n",
    "\n",
    "# date will be added to exported file\n",
    "# today_date = datetime.today().strftime('%Y-%m-%d')\n",
    "\n",
    "# reading in portfolio spreadsheet as pandas dataframe\n",
    "df = pd.read_excel('portfolio.xlsx', index_col=False)\n",
    "df.head()\n"
   ]
  },
  {
   "cell_type": "code",
   "execution_count": 2,
   "id": "611974d946ec120a",
   "metadata": {
    "ExecuteTime": {
     "end_time": "2024-01-09T17:07:43.671652300Z",
     "start_time": "2024-01-09T17:07:40.204863Z"
    },
    "collapsed": false
   },
   "outputs": [
    {
     "name": "stdout",
     "output_type": "stream",
     "text": [
      "[*********************100%%**********************]  5 of 5 completed\n"
     ]
    },
    {
     "data": {
      "text/html": [
       "<div>\n",
       "<style scoped>\n",
       "    .dataframe tbody tr th:only-of-type {\n",
       "        vertical-align: middle;\n",
       "    }\n",
       "\n",
       "    .dataframe tbody tr th {\n",
       "        vertical-align: top;\n",
       "    }\n",
       "\n",
       "    .dataframe thead th {\n",
       "        text-align: right;\n",
       "    }\n",
       "</style>\n",
       "<table border=\"1\" class=\"dataframe\">\n",
       "  <thead>\n",
       "    <tr style=\"text-align: right;\">\n",
       "      <th></th>\n",
       "      <th>CAT</th>\n",
       "      <th>GS</th>\n",
       "      <th>MCD</th>\n",
       "      <th>MMM</th>\n",
       "      <th>MSFT</th>\n",
       "    </tr>\n",
       "    <tr>\n",
       "      <th>Date</th>\n",
       "      <th></th>\n",
       "      <th></th>\n",
       "      <th></th>\n",
       "      <th></th>\n",
       "      <th></th>\n",
       "    </tr>\n",
       "  </thead>\n",
       "  <tbody>\n",
       "    <tr>\n",
       "      <th>2019-01-09</th>\n",
       "      <td>115.330772</td>\n",
       "      <td>156.694839</td>\n",
       "      <td>160.597595</td>\n",
       "      <td>157.257721</td>\n",
       "      <td>99.014496</td>\n",
       "    </tr>\n",
       "    <tr>\n",
       "      <th>2019-01-10</th>\n",
       "      <td>117.712311</td>\n",
       "      <td>156.277527</td>\n",
       "      <td>161.720001</td>\n",
       "      <td>158.320831</td>\n",
       "      <td>98.378258</td>\n",
       "    </tr>\n",
       "    <tr>\n",
       "      <th>2019-01-11</th>\n",
       "      <td>116.950943</td>\n",
       "      <td>157.103271</td>\n",
       "      <td>162.450394</td>\n",
       "      <td>157.184128</td>\n",
       "      <td>97.618591</td>\n",
       "    </tr>\n",
       "    <tr>\n",
       "      <th>2019-01-14</th>\n",
       "      <td>116.685333</td>\n",
       "      <td>158.692734</td>\n",
       "      <td>161.425995</td>\n",
       "      <td>157.151413</td>\n",
       "      <td>96.906395</td>\n",
       "    </tr>\n",
       "    <tr>\n",
       "      <th>2019-01-15</th>\n",
       "      <td>115.702637</td>\n",
       "      <td>159.749390</td>\n",
       "      <td>161.247849</td>\n",
       "      <td>154.510010</td>\n",
       "      <td>99.717209</td>\n",
       "    </tr>\n",
       "    <tr>\n",
       "      <th>...</th>\n",
       "      <td>...</td>\n",
       "      <td>...</td>\n",
       "      <td>...</td>\n",
       "      <td>...</td>\n",
       "      <td>...</td>\n",
       "    </tr>\n",
       "    <tr>\n",
       "      <th>2024-01-02</th>\n",
       "      <td>292.709991</td>\n",
       "      <td>388.299988</td>\n",
       "      <td>297.040009</td>\n",
       "      <td>110.000000</td>\n",
       "      <td>370.869995</td>\n",
       "    </tr>\n",
       "    <tr>\n",
       "      <th>2024-01-03</th>\n",
       "      <td>284.299988</td>\n",
       "      <td>381.790009</td>\n",
       "      <td>294.390015</td>\n",
       "      <td>107.790001</td>\n",
       "      <td>370.600006</td>\n",
       "    </tr>\n",
       "    <tr>\n",
       "      <th>2024-01-04</th>\n",
       "      <td>286.100006</td>\n",
       "      <td>382.950012</td>\n",
       "      <td>291.739990</td>\n",
       "      <td>108.169998</td>\n",
       "      <td>367.940002</td>\n",
       "    </tr>\n",
       "    <tr>\n",
       "      <th>2024-01-05</th>\n",
       "      <td>288.929993</td>\n",
       "      <td>386.440002</td>\n",
       "      <td>288.989990</td>\n",
       "      <td>108.589996</td>\n",
       "      <td>367.750000</td>\n",
       "    </tr>\n",
       "    <tr>\n",
       "      <th>2024-01-08</th>\n",
       "      <td>292.250000</td>\n",
       "      <td>388.859985</td>\n",
       "      <td>291.899994</td>\n",
       "      <td>108.860001</td>\n",
       "      <td>374.690002</td>\n",
       "    </tr>\n",
       "  </tbody>\n",
       "</table>\n",
       "<p>1258 rows × 5 columns</p>\n",
       "</div>"
      ],
      "text/plain": [
       "                   CAT          GS         MCD         MMM        MSFT\n",
       "Date                                                                  \n",
       "2019-01-09  115.330772  156.694839  160.597595  157.257721   99.014496\n",
       "2019-01-10  117.712311  156.277527  161.720001  158.320831   98.378258\n",
       "2019-01-11  116.950943  157.103271  162.450394  157.184128   97.618591\n",
       "2019-01-14  116.685333  158.692734  161.425995  157.151413   96.906395\n",
       "2019-01-15  115.702637  159.749390  161.247849  154.510010   99.717209\n",
       "...                ...         ...         ...         ...         ...\n",
       "2024-01-02  292.709991  388.299988  297.040009  110.000000  370.869995\n",
       "2024-01-03  284.299988  381.790009  294.390015  107.790001  370.600006\n",
       "2024-01-04  286.100006  382.950012  291.739990  108.169998  367.940002\n",
       "2024-01-05  288.929993  386.440002  288.989990  108.589996  367.750000\n",
       "2024-01-08  292.250000  388.859985  291.899994  108.860001  374.690002\n",
       "\n",
       "[1258 rows x 5 columns]"
      ]
     },
     "execution_count": 2,
     "metadata": {},
     "output_type": "execute_result"
    }
   ],
   "source": [
    "# parsing data\n",
    "symbols = df['Stock symbol']\n",
    "symbols_str = ''.join(symbol + ' ' for symbol in symbols)\n",
    "latest_prices = df['Current price']\n",
    "\n",
    "# handles how far back you wanna go. you can also change \"years\" parameter to \"months\" if needed and make a new variable months_back\n",
    "years_back = 5\n",
    "\n",
    "today_date_raw = datetime.today()\n",
    "start_date_raw = today_date_raw - relativedelta(years=years_back)\n",
    "today_date = today_date_raw.strftime('%Y-%m-%d')\n",
    "start_date = start_date_raw.strftime('%Y-%m-%d')\n",
    "\n",
    "# downloads historical prices for each stock symbol\n",
    "prices = yf.download(symbols_str, start=start_date,end=today_date)['Adj Close']\n",
    "prices"
   ]
  },
  {
   "cell_type": "code",
   "execution_count": 3,
   "id": "c97b50b692cd14a",
   "metadata": {
    "ExecuteTime": {
     "end_time": "2024-01-09T17:07:44.053700400Z",
     "start_time": "2024-01-09T17:07:43.662652100Z"
    },
    "collapsed": false
   },
   "outputs": [
    {
     "name": "stdout",
     "output_type": "stream",
     "text": [
      "[*********************100%%**********************]  1 of 1 completed\n"
     ]
    },
    {
     "data": {
      "text/plain": [
       "Date\n",
       "1993-01-29     24.840672\n",
       "1993-02-01     25.017368\n",
       "1993-02-02     25.070364\n",
       "1993-02-03     25.335369\n",
       "1993-02-04     25.441380\n",
       "                 ...    \n",
       "2024-01-03    468.790009\n",
       "2024-01-04    467.279999\n",
       "2024-01-05    467.920013\n",
       "2024-01-08    474.600006\n",
       "2024-01-09    474.279999\n",
       "Name: Adj Close, Length: 7792, dtype: float64"
      ]
     },
     "execution_count": 3,
     "metadata": {},
     "output_type": "execute_result"
    }
   ],
   "source": [
    "# downloads historical market data from S&P500\n",
    "# we may want to consider what an appropriate time period is with respect to our historical asset returns, and investment time horizon \n",
    "market_prices = yf.download(\"SPY\", period=\"max\")[\"Adj Close\"]\n",
    "market_prices"
   ]
  },
  {
   "cell_type": "code",
   "execution_count": 4,
   "id": "ca2b39f1a0567b2a",
   "metadata": {
    "ExecuteTime": {
     "end_time": "2024-01-09T17:07:45.058511800Z",
     "start_time": "2024-01-09T17:07:44.055700800Z"
    },
    "collapsed": false
   },
   "outputs": [
    {
     "data": {
      "text/plain": [
       "{'MSFT': 2790740178124.6875,\n",
       " 'CAT': 149341583248.29102,\n",
       " 'MMM': 60025810859.11377,\n",
       " 'MCD': 209457005991.4746,\n",
       " 'GS': 126921114709.7168}"
      ]
     },
     "execution_count": 4,
     "metadata": {},
     "output_type": "execute_result"
    }
   ],
   "source": [
    "# parameter for market-implied returns vector (prior)\n",
    "market_caps = {}\n",
    "for symbol in symbols:\n",
    "    ticker = yf.Ticker(symbol)\n",
    "    market_caps[symbol] = ticker.fast_info['marketCap'] \n",
    "\n",
    "market_caps"
   ]
  },
  {
   "cell_type": "code",
   "execution_count": 5,
   "id": "7abf0e313bf8b390",
   "metadata": {
    "ExecuteTime": {
     "end_time": "2024-01-09T17:07:45.059511Z",
     "start_time": "2024-01-09T17:07:44.987526Z"
    },
    "collapsed": false
   },
   "outputs": [
    {
     "data": {
      "text/plain": [
       "2.0882131901177785"
      ]
     },
     "execution_count": 5,
     "metadata": {},
     "output_type": "execute_result"
    }
   ],
   "source": [
    "\n",
    "# returns Pandas series - vector\n",
    "# expected/implied returns needed for optimisation along each efficient frontier\n",
    "\n",
    "# delta = market-implied risk premium --> excess return/variance\n",
    "# risk-free rate based on 5y US treasury yield, should reflect time period of returns\n",
    "delta = opt.black_litterman.market_implied_risk_aversion(market_prices, risk_free_rate=0.0395)\n",
    "delta"
   ]
  },
  {
   "cell_type": "markdown",
   "id": "c1ba43f3514eca11",
   "metadata": {
    "collapsed": false
   },
   "source": [
    "Yield curve\n",
    "https://markets.ft.com/data/bonds"
   ]
  },
  {
   "cell_type": "code",
   "execution_count": 6,
   "id": "da88e3721f963f1c",
   "metadata": {
    "ExecuteTime": {
     "end_time": "2024-01-09T17:07:47.109898700Z",
     "start_time": "2024-01-09T17:07:45.002506400Z"
    },
    "collapsed": false
   },
   "outputs": [
    {
     "data": {
      "text/plain": [
       "<Axes: >"
      ]
     },
     "execution_count": 6,
     "metadata": {},
     "output_type": "execute_result"
    },
    {
     "data": {
      "image/png": "[encoded data removed]",
      "text/plain": [
       "<Figure size 640x480 with 2 Axes>"
      ]
     },
     "metadata": {},
     "output_type": "display_data"
    }
   ],
   "source": [
    "\n",
    "# square covariance matrix made using covariance shrinkage estimator - LW method, const. variance shrinkage\n",
    "# considering revising whether this is the most appropriate method\n",
    "Sigma = opt.risk_models.CovarianceShrinkage(prices).ledoit_wolf(shrinkage_target='constant_variance')\n",
    "\n",
    "\n",
    "# plots correlation using shrinkage estimate covar. matrix\n",
    "# opt.plotting.plot_covariance(Sigma, plot_correlation=False)\n",
    "\n",
    "# return_cov = opt.risk_models.sample_cov(prices)\n",
    "sns.heatmap(Sigma, cmap='viridis')"
   ]
  },
  {
   "cell_type": "markdown",
   "id": "5c5fb39d9dc77d",
   "metadata": {
    "collapsed": false
   },
   "source": [
    "Covariance matrices based on sample covariance may not accurately reflect the underlying covariance structure of the market, and is sensitive to outliers. Rather than using a sample cov. matrix (unbiased, but poor estimate), we'll fit it to a matrix that's a \"shrinkage target\" (high bias, but low est. error)."
   ]
  },
  {
   "cell_type": "code",
   "execution_count": 7,
   "id": "5051882d6c017c",
   "metadata": {
    "ExecuteTime": {
     "end_time": "2024-01-09T17:07:47.144896500Z",
     "start_time": "2024-01-09T17:07:47.097379900Z"
    },
    "collapsed": false
   },
   "outputs": [
    {
     "data": {
      "text/plain": [
       "CAT     0.100757\n",
       "GS      0.124327\n",
       "MCD     0.093793\n",
       "MMM     0.090086\n",
       "MSFT    0.193552\n",
       "dtype: float64"
      ]
     },
     "execution_count": 7,
     "metadata": {},
     "output_type": "execute_result"
    }
   ],
   "source": [
    "# prior estimate of returns\n",
    "market_prior = opt.black_litterman.market_implied_prior_returns(market_caps, delta, Sigma)\n",
    "market_prior"
   ]
  },
  {
   "cell_type": "code",
   "execution_count": 8,
   "id": "a9f479391984280f",
   "metadata": {
    "ExecuteTime": {
     "end_time": "2024-01-09T17:07:47.723896400Z",
     "start_time": "2024-01-09T17:07:47.116894800Z"
    },
    "collapsed": false
   },
   "outputs": [
    {
     "data": {
      "text/plain": [
       "<Axes: >"
      ]
     },
     "execution_count": 8,
     "metadata": {},
     "output_type": "execute_result"
    },
    {
     "data": {
      "image/png": "[encoded data removed]",
      "text/plain": [
       "<Figure size 640x480 with 2 Axes>"
      ]
     },
     "metadata": {},
     "output_type": "display_data"
    }
   ],
   "source": [
    "# adding views - forming posterior\n",
    "\n",
    "view_dict = {\n",
    "    'MMM': 0.01,\n",
    "    'MCD': 0.3,\n",
    "    'GS': 0.07,\n",
    "    'CAT': 0.23,\n",
    "    'MSFT': 0.14\n",
    "}\n",
    "\n",
    "confidences =[\n",
    "    0.1,\n",
    "    0.4,\n",
    "    0.5,\n",
    "    0.65,\n",
    "    0.7\n",
    "]\n",
    "\n",
    "bl = opt.BlackLittermanModel(Sigma, pi=market_prior, absolute_views=view_dict, view_confidences=confidences, omega='idzorek')\n",
    "\n",
    "omega = bl.omega\n",
    "sns.heatmap(omega, cmap='viridis')\n"
   ]
  },
  {
   "cell_type": "code",
   "execution_count": 9,
   "id": "836af694c146ca57",
   "metadata": {
    "ExecuteTime": {
     "end_time": "2024-01-09T17:07:47.725412300Z",
     "start_time": "2024-01-09T17:07:47.704957900Z"
    },
    "collapsed": false
   },
   "outputs": [
    {
     "data": {
      "text/plain": [
       "array([0.03455027, 0.0040464 , 0.00533049, 0.00283395, 0.00197405])"
      ]
     },
     "execution_count": 9,
     "metadata": {},
     "output_type": "execute_result"
    }
   ],
   "source": [
    "np.diag(omega)"
   ]
  },
  {
   "cell_type": "code",
   "execution_count": 10,
   "id": "801574968c6be30",
   "metadata": {
    "ExecuteTime": {
     "end_time": "2024-01-09T17:07:47.759415600Z",
     "start_time": "2024-01-09T17:07:47.719686Z"
    },
    "collapsed": false
   },
   "outputs": [
    {
     "data": {
      "text/plain": [
       "CAT     0.174484\n",
       "GS      0.138812\n",
       "MCD     0.158338\n",
       "MMM     0.119523\n",
       "MSFT    0.173497\n",
       "dtype: float64"
      ]
     },
     "execution_count": 10,
     "metadata": {},
     "output_type": "execute_result"
    }
   ],
   "source": [
    "# posterior estimate given views and confidences\n",
    "posterior = bl.bl_returns()\n",
    "posterior"
   ]
  },
  {
   "cell_type": "code",
   "execution_count": 11,
   "id": "5686e4c0b20c2cc0",
   "metadata": {
    "ExecuteTime": {
     "end_time": "2024-01-09T17:07:49.884490200Z",
     "start_time": "2024-01-09T17:07:47.732414500Z"
    },
    "collapsed": false
   },
   "outputs": [
    {
     "ename": "NameError",
     "evalue": "name 'EfficientFrontier' is not defined",
     "output_type": "error",
     "traceback": [
      "\u001b[1;31m---------------------------------------------------------------------------\u001b[0m",
      "\u001b[1;31mNameError\u001b[0m                                 Traceback (most recent call last)",
      "Cell \u001b[1;32mIn[11], line 2\u001b[0m\n\u001b[0;32m      1\u001b[0m rets \u001b[38;5;241m=\u001b[39m bl\u001b[38;5;241m.\u001b[39mbl_returns()\n\u001b[1;32m----> 2\u001b[0m ef \u001b[38;5;241m=\u001b[39m EfficientFrontier(rets, S, weight_bounds\u001b[38;5;241m=\u001b[39m(\u001b[38;5;241m0\u001b[39m, \u001b[38;5;241m0.05\u001b[39m))\n\u001b[0;32m      3\u001b[0m ef\u001b[38;5;241m.\u001b[39mmax_sharpe()\n\u001b[0;32m      4\u001b[0m \u001b[38;5;28mprint\u001b[39m(ef\u001b[38;5;241m.\u001b[39mclean_weights())\n",
      "\u001b[1;31mNameError\u001b[0m: name 'EfficientFrontier' is not defined"
     ]
    }
   ],
   "source": [
    "rets = bl.bl_returns()\n",
    "ef = EfficientFrontier(rets, Sigma, weight_bounds=(0, 0.05))\n",
    "ef.max_sharpe()\n",
    "weights = ef.clean_weights()\n",
    "print(weights)\n",
    "ef.portfolio_performance(verbose=True)"
   ]
  },
  {
   "cell_type": "code",
   "execution_count": null,
   "id": "a40be4aa",
   "metadata": {
    "ExecuteTime": {
     "start_time": "2024-01-09T17:07:49.872496100Z"
    }
   },
   "outputs": [],
   "source": [
    "latest_prices = prices.iloc[-1]\n",
    "\n",
    "# here, weights should be an OrderedDict generated by an efficient_frontier class\n",
    "da = opt.DiscreteAllocation(weights, latest_prices, total_portfolio_value=15000, short_ratio=None)\n",
    "\n",
    "# greedy portfolio vs. integer programming\n",
    "# greedy portfolio: buys as many shares as possible for each asset without going over desired weight, then bin packs the remainder, prioritising assets w/ the biggest diff. between their current weight and ideal weight\n",
    "# tradeoff between optimal and computational efficiency\n",
    "allocation, leftover = da.greedy_portfolio()\n",
    "\n",
    "cvar_weights_array = np.fromiter(cvar_weights_dict.values(), dtype=float)\n",
    "# std. dev.\n",
    "portfolio_volatility = np.sqrt(np.dot(cvar_weights_array.transpose(), np.dot(Sigma, cvar_weights_array)))\n",
    "\n",
    "\n",
    "print(f\"Discrete allocation (no. shares): {allocation}\")\n",
    "print(f\"Funds remaining: ${leftover:.2f}\")\n",
    "print(f'Portfolio volatility (standard deviation): {portfolio_volatility:.4f}')"
   ]
  },
  {
   "cell_type": "code",
   "execution_count": null,
   "id": "888449030933c8e8",
   "metadata": {
    "ExecuteTime": {
     "start_time": "2024-01-09T17:07:49.875491500Z"
    },
    "collapsed": false
   },
   "outputs": [],
   "source": [
    "pd.Series(cvar_weights_dict).plot.pie()"
   ]
  }
 ],
 "metadata": {
  "kernelspec": {
   "display_name": "Python 3",
   "language": "python",
   "name": "python3"
  },
  "language_info": {
   "codemirror_mode": {
    "name": "ipython",
    "version": 2
   },
   "file_extension": ".py",
   "mimetype": "text/x-python",
   "name": "python",
   "nbconvert_exporter": "python",
   "pygments_lexer": "ipython2",
   "version": "2.7.6"
  }
 },
 "nbformat": 4,
 "nbformat_minor": 5
}
