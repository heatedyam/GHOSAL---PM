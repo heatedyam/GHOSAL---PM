{
 "cells": [
  {
   "cell_type": "code",
   "execution_count": 13,
   "id": "initial_id",
   "metadata": {
    "collapsed": true,
    "ExecuteTime": {
     "end_time": "2023-12-22T20:08:06.240213100Z",
     "start_time": "2023-12-22T20:08:05.899515300Z"
    }
   },
   "outputs": [
    {
     "data": {
      "text/plain": "                    Company name Stock symbol Currency  Current price  \\\n0          Microsoft Corporation         MSFT      USD         376.17   \n1               Caterpillar Inc.          CAT      USD         248.53   \n2                     3M Company          MMM      USD          95.57   \n3         McDonald's Corporation          MCD      USD         276.04   \n4  The Goldman Sachs Group, Inc.           GS      USD         336.67   \n\n  Buy/sell  Buy/sell price  Qty. shares Buy/sell date  Target price  \\\n0      buy             NaN            1    2023-11-16           NaN   \n1      buy             NaN            1    2023-11-16           NaN   \n2      buy             NaN            1    2023-11-16           NaN   \n3      buy             NaN            1    2023-11-16           NaN   \n4      buy             NaN            1    2023-11-16           NaN   \n\n   Stop loss        Country              Sector  Ghosal Sector  Weight  \\\n0        NaN  United States          Technology            NaN     NaN   \n1        NaN  United States         Industrials            NaN     NaN   \n2        NaN  United States         Industrials            NaN     NaN   \n3        NaN  United States   Consumer Cyclical            NaN     NaN   \n4        NaN  United States  Financial Services            NaN     NaN   \n\n   Standardised current price  Standardised buy/sell price  P&L  Return  \n0                         NaN                          NaN  NaN     NaN  \n1                         NaN                          NaN  NaN     NaN  \n2                         NaN                          NaN  NaN     NaN  \n3                         NaN                          NaN  NaN     NaN  \n4                         NaN                          NaN  NaN     NaN  ",
      "text/html": "<div>\n<style scoped>\n    .dataframe tbody tr th:only-of-type {\n        vertical-align: middle;\n    }\n\n    .dataframe tbody tr th {\n        vertical-align: top;\n    }\n\n    .dataframe thead th {\n        text-align: right;\n    }\n</style>\n<table border=\"1\" class=\"dataframe\">\n  <thead>\n    <tr style=\"text-align: right;\">\n      <th></th>\n      <th>Company name</th>\n      <th>Stock symbol</th>\n      <th>Currency</th>\n      <th>Current price</th>\n      <th>Buy/sell</th>\n      <th>Buy/sell price</th>\n      <th>Qty. shares</th>\n      <th>Buy/sell date</th>\n      <th>Target price</th>\n      <th>Stop loss</th>\n      <th>Country</th>\n      <th>Sector</th>\n      <th>Ghosal Sector</th>\n      <th>Weight</th>\n      <th>Standardised current price</th>\n      <th>Standardised buy/sell price</th>\n      <th>P&amp;L</th>\n      <th>Return</th>\n    </tr>\n  </thead>\n  <tbody>\n    <tr>\n      <th>0</th>\n      <td>Microsoft Corporation</td>\n      <td>MSFT</td>\n      <td>USD</td>\n      <td>376.17</td>\n      <td>buy</td>\n      <td>NaN</td>\n      <td>1</td>\n      <td>2023-11-16</td>\n      <td>NaN</td>\n      <td>NaN</td>\n      <td>United States</td>\n      <td>Technology</td>\n      <td>NaN</td>\n      <td>NaN</td>\n      <td>NaN</td>\n      <td>NaN</td>\n      <td>NaN</td>\n      <td>NaN</td>\n    </tr>\n    <tr>\n      <th>1</th>\n      <td>Caterpillar Inc.</td>\n      <td>CAT</td>\n      <td>USD</td>\n      <td>248.53</td>\n      <td>buy</td>\n      <td>NaN</td>\n      <td>1</td>\n      <td>2023-11-16</td>\n      <td>NaN</td>\n      <td>NaN</td>\n      <td>United States</td>\n      <td>Industrials</td>\n      <td>NaN</td>\n      <td>NaN</td>\n      <td>NaN</td>\n      <td>NaN</td>\n      <td>NaN</td>\n      <td>NaN</td>\n    </tr>\n    <tr>\n      <th>2</th>\n      <td>3M Company</td>\n      <td>MMM</td>\n      <td>USD</td>\n      <td>95.57</td>\n      <td>buy</td>\n      <td>NaN</td>\n      <td>1</td>\n      <td>2023-11-16</td>\n      <td>NaN</td>\n      <td>NaN</td>\n      <td>United States</td>\n      <td>Industrials</td>\n      <td>NaN</td>\n      <td>NaN</td>\n      <td>NaN</td>\n      <td>NaN</td>\n      <td>NaN</td>\n      <td>NaN</td>\n    </tr>\n    <tr>\n      <th>3</th>\n      <td>McDonald's Corporation</td>\n      <td>MCD</td>\n      <td>USD</td>\n      <td>276.04</td>\n      <td>buy</td>\n      <td>NaN</td>\n      <td>1</td>\n      <td>2023-11-16</td>\n      <td>NaN</td>\n      <td>NaN</td>\n      <td>United States</td>\n      <td>Consumer Cyclical</td>\n      <td>NaN</td>\n      <td>NaN</td>\n      <td>NaN</td>\n      <td>NaN</td>\n      <td>NaN</td>\n      <td>NaN</td>\n    </tr>\n    <tr>\n      <th>4</th>\n      <td>The Goldman Sachs Group, Inc.</td>\n      <td>GS</td>\n      <td>USD</td>\n      <td>336.67</td>\n      <td>buy</td>\n      <td>NaN</td>\n      <td>1</td>\n      <td>2023-11-16</td>\n      <td>NaN</td>\n      <td>NaN</td>\n      <td>United States</td>\n      <td>Financial Services</td>\n      <td>NaN</td>\n      <td>NaN</td>\n      <td>NaN</td>\n      <td>NaN</td>\n      <td>NaN</td>\n      <td>NaN</td>\n    </tr>\n  </tbody>\n</table>\n</div>"
     },
     "execution_count": 13,
     "metadata": {},
     "output_type": "execute_result"
    }
   ],
   "source": [
    "import yfinance as yf\n",
    "import pypfopt as opt\n",
    "from pypfopt import plotting\n",
    "import pandas as pd\n",
    "import seaborn as sns\n",
    "import numpy as np\n",
    "\n",
    "from datetime import datetime\n",
    "from dateutil.relativedelta import relativedelta\n",
    "from matplotlib import pyplot as plt\n",
    "\n",
    "headers = ['Company name', 'Stock symbol', 'Currency', 'Current price', 'Buy/sell', 'Buy/sell price', 'Qty. shares', 'Buy/sell date', 'Target price', 'Stop loss', 'Country', 'Sector', 'Ghosal sector', 'Weight', 'Standardised current price', 'Standardised buy/sell price', 'P&L', 'Return']\n",
    "\n",
    "# date will be added to exported file\n",
    "# today_date = datetime.today().strftime('%Y-%m-%d')\n",
    "\n",
    "# reading in portfolio spreadsheet as pandas dataframe\n",
    "df = pd.read_excel('portfolio.xlsx', index_col=False)\n",
    "df.head()\n"
   ]
  },
  {
   "cell_type": "code",
   "execution_count": 14,
   "outputs": [
    {
     "name": "stdout",
     "output_type": "stream",
     "text": [
      "[*********************100%%**********************]  5 of 5 completed\n"
     ]
    },
    {
     "data": {
      "text/plain": "                   CAT          GS         MCD         MMM        MSFT\nDate                                                                  \n2018-12-24  103.538307  138.829498  151.680923  146.070587   89.385567\n2018-12-26  110.452667  144.672119  155.021347  152.318405   95.491486\n2018-12-27  112.143639  146.874207  156.517883  155.949310   96.080246\n2018-12-28  111.205177  144.760895  156.384232  154.861664   95.330048\n2018-12-31  112.497765  148.330444  158.174728  155.818420   96.450607\n...                ...         ...         ...         ...         ...\n2023-12-15  285.739990  380.510010  287.269989  106.980003  370.730011\n2023-12-18  285.709991  376.399994  290.230011  105.870003  372.649994\n2023-12-19  292.959991  382.450012  290.730011  106.250000  373.260010\n2023-12-20  289.709991  377.519989  288.989990  103.669998  370.619995\n2023-12-21  290.070007  380.570007  291.390015  105.559998  373.540009\n\n[1258 rows x 5 columns]",
      "text/html": "<div>\n<style scoped>\n    .dataframe tbody tr th:only-of-type {\n        vertical-align: middle;\n    }\n\n    .dataframe tbody tr th {\n        vertical-align: top;\n    }\n\n    .dataframe thead th {\n        text-align: right;\n    }\n</style>\n<table border=\"1\" class=\"dataframe\">\n  <thead>\n    <tr style=\"text-align: right;\">\n      <th></th>\n      <th>CAT</th>\n      <th>GS</th>\n      <th>MCD</th>\n      <th>MMM</th>\n      <th>MSFT</th>\n    </tr>\n    <tr>\n      <th>Date</th>\n      <th></th>\n      <th></th>\n      <th></th>\n      <th></th>\n      <th></th>\n    </tr>\n  </thead>\n  <tbody>\n    <tr>\n      <th>2018-12-24</th>\n      <td>103.538307</td>\n      <td>138.829498</td>\n      <td>151.680923</td>\n      <td>146.070587</td>\n      <td>89.385567</td>\n    </tr>\n    <tr>\n      <th>2018-12-26</th>\n      <td>110.452667</td>\n      <td>144.672119</td>\n      <td>155.021347</td>\n      <td>152.318405</td>\n      <td>95.491486</td>\n    </tr>\n    <tr>\n      <th>2018-12-27</th>\n      <td>112.143639</td>\n      <td>146.874207</td>\n      <td>156.517883</td>\n      <td>155.949310</td>\n      <td>96.080246</td>\n    </tr>\n    <tr>\n      <th>2018-12-28</th>\n      <td>111.205177</td>\n      <td>144.760895</td>\n      <td>156.384232</td>\n      <td>154.861664</td>\n      <td>95.330048</td>\n    </tr>\n    <tr>\n      <th>2018-12-31</th>\n      <td>112.497765</td>\n      <td>148.330444</td>\n      <td>158.174728</td>\n      <td>155.818420</td>\n      <td>96.450607</td>\n    </tr>\n    <tr>\n      <th>...</th>\n      <td>...</td>\n      <td>...</td>\n      <td>...</td>\n      <td>...</td>\n      <td>...</td>\n    </tr>\n    <tr>\n      <th>2023-12-15</th>\n      <td>285.739990</td>\n      <td>380.510010</td>\n      <td>287.269989</td>\n      <td>106.980003</td>\n      <td>370.730011</td>\n    </tr>\n    <tr>\n      <th>2023-12-18</th>\n      <td>285.709991</td>\n      <td>376.399994</td>\n      <td>290.230011</td>\n      <td>105.870003</td>\n      <td>372.649994</td>\n    </tr>\n    <tr>\n      <th>2023-12-19</th>\n      <td>292.959991</td>\n      <td>382.450012</td>\n      <td>290.730011</td>\n      <td>106.250000</td>\n      <td>373.260010</td>\n    </tr>\n    <tr>\n      <th>2023-12-20</th>\n      <td>289.709991</td>\n      <td>377.519989</td>\n      <td>288.989990</td>\n      <td>103.669998</td>\n      <td>370.619995</td>\n    </tr>\n    <tr>\n      <th>2023-12-21</th>\n      <td>290.070007</td>\n      <td>380.570007</td>\n      <td>291.390015</td>\n      <td>105.559998</td>\n      <td>373.540009</td>\n    </tr>\n  </tbody>\n</table>\n<p>1258 rows × 5 columns</p>\n</div>"
     },
     "execution_count": 14,
     "metadata": {},
     "output_type": "execute_result"
    }
   ],
   "source": [
    "# parsing data\n",
    "symbols = df['Stock symbol']\n",
    "symbols_str = ''.join(symbol + ' ' for symbol in symbols)\n",
    "latest_prices = df['Current price']\n",
    "\n",
    "# handles how far back you wanna go. you can also change \"years\" parameter to \"months\" if needed and make a new variable months_back\n",
    "years_back = 5\n",
    "\n",
    "today_date_raw = datetime.today()\n",
    "start_date_raw = today_date_raw - relativedelta(years=years_back)\n",
    "today_date = today_date_raw.strftime('%Y-%m-%d')\n",
    "start_date = start_date_raw.strftime('%Y-%m-%d')\n",
    "\n",
    "# downloads historical prices for each stock symbol\n",
    "prices = yf.download(symbols_str, start=start_date,end=today_date)['Adj Close']\n",
    "prices"
   ],
   "metadata": {
    "collapsed": false,
    "ExecuteTime": {
     "end_time": "2023-12-22T20:08:06.701976500Z",
     "start_time": "2023-12-22T20:08:06.218210800Z"
    }
   },
   "id": "611974d946ec120a"
  },
  {
   "cell_type": "code",
   "execution_count": 15,
   "outputs": [
    {
     "name": "stdout",
     "output_type": "stream",
     "text": [
      "[*********************100%%**********************]  1 of 1 completed\n"
     ]
    },
    {
     "data": {
      "text/plain": "Date\n1993-01-29     24.840668\n1993-02-01     25.017345\n1993-02-02     25.070353\n1993-02-03     25.335381\n1993-02-04     25.441383\n                 ...    \n2023-12-18    471.970001\n2023-12-19    474.839996\n2023-12-20    468.260010\n2023-12-21    472.700012\n2023-12-22    473.730103\nName: Adj Close, Length: 7782, dtype: float64"
     },
     "execution_count": 15,
     "metadata": {},
     "output_type": "execute_result"
    }
   ],
   "source": [
    "# downloads historical market data from S&P500\n",
    "# we may want to consider what an appropriate time period is with respect to our historical asset returns, and investment time horizon \n",
    "market_prices = yf.download(\"SPY\", period=\"max\")[\"Adj Close\"]\n",
    "market_prices"
   ],
   "metadata": {
    "collapsed": false,
    "ExecuteTime": {
     "end_time": "2023-12-22T20:08:08.016745200Z",
     "start_time": "2023-12-22T20:08:06.675846100Z"
    }
   },
   "id": "c97b50b692cd14a"
  },
  {
   "cell_type": "code",
   "execution_count": 16,
   "outputs": [
    {
     "data": {
      "text/plain": "{'MSFT': 2781969258388.5938,\n 'CAT': 147868822426.22852,\n 'MMM': 58948794410.251465,\n 'MCD': 211506902925.48633,\n 'GS': 124278020885.74219}"
     },
     "execution_count": 16,
     "metadata": {},
     "output_type": "execute_result"
    }
   ],
   "source": [
    "# parameter for market-implied returns vector (prior)\n",
    "market_caps = {}\n",
    "for symbol in symbols:\n",
    "    ticker = yf.Ticker(symbol)\n",
    "    market_caps[symbol] = ticker.fast_info['marketCap'] \n",
    "\n",
    "market_caps"
   ],
   "metadata": {
    "collapsed": false,
    "ExecuteTime": {
     "end_time": "2023-12-22T20:08:08.638564900Z",
     "start_time": "2023-12-22T20:08:07.995746Z"
    }
   },
   "id": "ca2b39f1a0567b2a"
  },
  {
   "cell_type": "code",
   "execution_count": 17,
   "outputs": [
    {
     "data": {
      "text/plain": "2.0890919512141473"
     },
     "execution_count": 17,
     "metadata": {},
     "output_type": "execute_result"
    }
   ],
   "source": [
    "\n",
    "# returns Pandas series - vector\n",
    "# expected/implied returns needed for optimisation along each efficient frontier\n",
    "\n",
    "# delta = market-implied risk premium --> excess return/variance\n",
    "# risk-free rate based on 5y US treasury yield, should reflect time period of returns\n",
    "delta = opt.black_litterman.market_implied_risk_aversion(market_prices, risk_free_rate=0.0395)\n",
    "delta"
   ],
   "metadata": {
    "collapsed": false,
    "ExecuteTime": {
     "end_time": "2023-12-22T20:08:08.660856800Z",
     "start_time": "2023-12-22T20:08:08.629564100Z"
    }
   },
   "id": "7abf0e313bf8b390"
  },
  {
   "cell_type": "markdown",
   "source": [
    "Yield curve\n",
    "https://markets.ft.com/data/bonds"
   ],
   "metadata": {
    "collapsed": false
   },
   "id": "c1ba43f3514eca11"
  },
  {
   "cell_type": "code",
   "execution_count": 22,
   "outputs": [
    {
     "data": {
      "text/plain": "<Axes: >"
     },
     "execution_count": 22,
     "metadata": {},
     "output_type": "execute_result"
    },
    {
     "data": {
      "text/plain": "<Figure size 640x480 with 2 Axes>",
      "image/png": "[encoded data removed]"
     },
     "metadata": {},
     "output_type": "display_data"
    }
   ],
   "source": [
    "\n",
    "# square covariance matrix made using covariance shrinkage estimator - LW method, const. variance shrinkage\n",
    "# considering revising whether this is the most appropriate method\n",
    "Sigma = opt.risk_models.CovarianceShrinkage(prices).ledoit_wolf(shrinkage_target='constant_variance')\n",
    "\n",
    "\n",
    "# plots correlation using shrinkage estimate covar. matrix\n",
    "# opt.plotting.plot_covariance(Sigma, plot_correlation=False)\n",
    "\n",
    "# return_cov = opt.risk_models.sample_cov(prices)\n",
    "sns.heatmap(Sigma, cmap='viridis')"
   ],
   "metadata": {
    "collapsed": false,
    "ExecuteTime": {
     "end_time": "2023-12-22T20:48:22.158212600Z",
     "start_time": "2023-12-22T20:48:21.169492100Z"
    }
   },
   "id": "da88e3721f963f1c"
  },
  {
   "cell_type": "markdown",
   "source": [
    "Covariance matrices based on sample covariance may not accurately reflect the underlying covariance structure of the market, and is sensitive to outliers. Rather than using a sample cov. matrix (unbiased, but poor estimate), we'll fit it to a matrix that's a \"shrinkage target\" (high bias, but low est. error)."
   ],
   "metadata": {
    "collapsed": false
   },
   "id": "5c5fb39d9dc77d"
  },
  {
   "cell_type": "code",
   "execution_count": 19,
   "outputs": [
    {
     "data": {
      "text/plain": "CAT     0.103963\nGS      0.126319\nMCD     0.094883\nMMM     0.092587\nMSFT    0.196726\ndtype: float64"
     },
     "execution_count": 19,
     "metadata": {},
     "output_type": "execute_result"
    }
   ],
   "source": [
    "# prior estimate of returns\n",
    "market_prior = opt.black_litterman.market_implied_prior_returns(market_caps, delta, Sigma)\n",
    "market_prior"
   ],
   "metadata": {
    "collapsed": false,
    "ExecuteTime": {
     "end_time": "2023-12-22T20:08:09.381541100Z",
     "start_time": "2023-12-22T20:08:09.348538100Z"
    }
   },
   "id": "5051882d6c017c"
  },
  {
   "cell_type": "markdown",
   "source": [
    "Overly optimistic expected returns, to be expected given we haven't provided our own views."
   ],
   "metadata": {
    "collapsed": false
   },
   "id": "dd427193293644d8"
  },
  {
   "cell_type": "code",
   "execution_count": 25,
   "outputs": [
    {
     "data": {
      "text/plain": "<Axes: >"
     },
     "execution_count": 25,
     "metadata": {},
     "output_type": "execute_result"
    },
    {
     "data": {
      "text/plain": "<Figure size 640x480 with 2 Axes>",
      "image/png": "[encoded data removed]"
     },
     "metadata": {},
     "output_type": "display_data"
    }
   ],
   "source": [
    "# adding views - forming posterior\n",
    "\n",
    "view_dict = {\n",
    "    'MMM': 0.01,\n",
    "    'MCD': 0.3,\n",
    "    'GS': 0.07,\n",
    "    'CAT': 0.23,\n",
    "    'MSFT': 0.14\n",
    "}\n",
    "\n",
    "confidences =[\n",
    "    0.1,\n",
    "    0.4,\n",
    "    0.5,\n",
    "    0.65,\n",
    "    0.7\n",
    "]\n",
    "\n",
    "bl = opt.BlackLittermanModel(Sigma, pi=market_prior, absolute_views=view_dict, view_confidences=confidences, omega='idzorek')\n",
    "\n",
    "omega = bl.omega\n",
    "sns.heatmap(omega, cmap='viridis')\n"
   ],
   "metadata": {
    "collapsed": false,
    "ExecuteTime": {
     "end_time": "2023-12-22T20:59:51.931096600Z",
     "start_time": "2023-12-22T20:59:51.229236800Z"
    }
   },
   "id": "a9f479391984280f"
  },
  {
   "cell_type": "code",
   "execution_count": 0,
   "outputs": [],
   "source": [
    "np.diag(omega)\n"
   ],
   "metadata": {
    "collapsed": false
   },
   "id": "836af694c146ca57"
  },
  {
   "cell_type": "code",
   "execution_count": 26,
   "outputs": [
    {
     "data": {
      "text/plain": "CAT     0.175039\nGS      0.138818\nMCD     0.158242\nMMM     0.120563\nMSFT    0.174733\ndtype: float64"
     },
     "execution_count": 26,
     "metadata": {},
     "output_type": "execute_result"
    }
   ],
   "source": [
    "# posterior estimate given views and confidences\n",
    "posterior = bl.bl_returns()\n",
    "posterior"
   ],
   "metadata": {
    "collapsed": false,
    "ExecuteTime": {
     "end_time": "2023-12-22T21:03:45.201511700Z",
     "start_time": "2023-12-22T21:03:45.098112800Z"
    }
   },
   "id": "801574968c6be30"
  },
  {
   "cell_type": "code",
   "execution_count": 20,
   "outputs": [],
   "source": [
    "\n",
    "\n",
    "\n",
    "\n"
   ],
   "metadata": {
    "collapsed": false,
    "ExecuteTime": {
     "end_time": "2023-12-22T20:08:09.430542100Z",
     "start_time": "2023-12-22T20:08:09.379540800Z"
    }
   },
   "id": "5b06833396556213"
  },
  {
   "cell_type": "markdown",
   "source": [
    "class parameter details\n",
    "ef = EfficientCVaR(expected_returns(np array), returns(pd df), beta=0.95, weight_bounds=(0,1), solver=None(string, optional), verbose=False, solver_options=None)\n",
    "\n",
    "EFFICIENT FRONTIER\n",
    "to plot the entire frontier, pass the EfficientFrontier object into the plotting function BEFORE calling an optimisation function like ef.min_volatility(). it doesn't like it when you don't\n",
    "\n",
    "note: success plotting efficient frontier with regular EfficientFrontier. EfficientCVaR gives weights but won't let me plot the efficient frontier at all."
   ],
   "metadata": {
    "collapsed": false
   },
   "id": "ab9eb681a8a4e02a"
  },
  {
   "cell_type": "code",
   "execution_count": 35,
   "outputs": [
    {
     "name": "stdout",
     "output_type": "stream",
     "text": [
      "Expected annual return: 14.8%\n",
      "Conditional Value at Risk: -4.33%\n",
      "Discrete allocation (no. shares): {'MCD': 20, 'GS': 15, 'MMM': 16, 'MSFT': 4}\n",
      "Funds remaining: $280.53\n",
      "Portfolio volatility (standard deviation): 0.2313\n"
     ]
    },
    {
     "name": "stderr",
     "output_type": "stream",
     "text": [
      "C:\\Users\\EYKS\\anaconda3\\Lib\\site-packages\\cvxpy\\reductions\\solvers\\solving_chain.py:336: FutureWarning: \n",
      "    Your problem is being solved with the ECOS solver by default. Starting in \n",
      "    CVXPY 1.5.0, Clarabel will be used as the default solver instead. To continue \n",
      "    using ECOS, specify the ECOS solver explicitly using the ``solver=cp.ECOS`` \n",
      "    argument to the ``problem.solve`` method.\n",
      "    \n",
      "  warnings.warn(ECOS_DEPRECATION_MSG, FutureWarning)\n"
     ]
    }
   ],
   "source": [
    "# assuming we're using Conditional Value at Risk (CVaR) for efficient frontier\n",
    "# class methods in efficient_frontier classes return optimal portfolio weights as OrderedDict\n",
    "ec = opt.EfficientCVaR(posterior, Sigma, weight_bounds=(0, 0.5))\n",
    "\n",
    "cvar_weights_dict = ec.min_cvar()\n",
    "ec.portfolio_performance(verbose=True)\n",
    "\n",
    "latest_prices = prices.iloc[-1]\n",
    "\n",
    "# here, weights should be an OrderedDict generated by an efficient_frontier class\n",
    "da = opt.DiscreteAllocation(cvar_weights_dict, latest_prices, total_portfolio_value=15000, short_ratio=None)\n",
    "\n",
    "# greedy portfolio vs. integer programming\n",
    "# greedy portfolio: buys as many shares as possible for each asset without going over desired weight, then bin packs the remainder, prioritising assets w/ the biggest diff. between their current weight and ideal weight\n",
    "# tradeoff between optimal and computational efficiency\n",
    "allocation, leftover = da.greedy_portfolio()\n",
    "\n",
    "cvar_weights_array = np.fromiter(cvar_weights_dict.values(), dtype=float)\n",
    "# std. dev.\n",
    "portfolio_volatility = np.sqrt(np.dot(cvar_weights_array.transpose(), np.dot(Sigma, cvar_weights_array)))\n",
    "\n",
    "\n",
    "print(f\"Discrete allocation (no. shares): {allocation}\")\n",
    "print(f\"Funds remaining: ${leftover:.2f}\")\n",
    "print(f'Portfolio volatility (standard deviation): {portfolio_volatility:.4f}')"
   ],
   "metadata": {
    "collapsed": false,
    "ExecuteTime": {
     "end_time": "2023-12-22T21:47:25.946630Z",
     "start_time": "2023-12-22T21:47:25.900318900Z"
    }
   },
   "id": "5686e4c0b20c2cc0"
  },
  {
   "cell_type": "code",
   "execution_count": 37,
   "outputs": [
    {
     "data": {
      "text/plain": "<Axes: >"
     },
     "execution_count": 37,
     "metadata": {},
     "output_type": "execute_result"
    },
    {
     "data": {
      "text/plain": "<Figure size 640x480 with 1 Axes>",
      "image/png": "[encoded data removed]"
     },
     "metadata": {},
     "output_type": "display_data"
    }
   ],
   "source": [
    "pd.Series(cvar_weights_dict).plot.pie()"
   ],
   "metadata": {
    "collapsed": false,
    "ExecuteTime": {
     "end_time": "2023-12-22T21:47:45.772558Z",
     "start_time": "2023-12-22T21:47:45.574252600Z"
    }
   },
   "id": "888449030933c8e8"
  },
  {
   "cell_type": "code",
   "execution_count": null,
   "outputs": [],
   "source": [],
   "metadata": {
    "collapsed": false,
    "ExecuteTime": {
     "end_time": "2023-12-22T20:08:09.586513900Z",
     "start_time": "2023-12-22T20:08:09.580513600Z"
    }
   },
   "id": "55a83a99d1b7d78d"
  }
 ],
 "metadata": {
  "kernelspec": {
   "display_name": "Python 3",
   "language": "python",
   "name": "python3"
  },
  "language_info": {
   "codemirror_mode": {
    "name": "ipython",
    "version": 2
   },
   "file_extension": ".py",
   "mimetype": "text/x-python",
   "name": "python",
   "nbconvert_exporter": "python",
   "pygments_lexer": "ipython2",
   "version": "2.7.6"
  }
 },
 "nbformat": 4,
 "nbformat_minor": 5
}
