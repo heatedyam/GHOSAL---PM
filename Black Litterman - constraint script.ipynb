{
 "cells": [
  {
   "cell_type": "code",
   "execution_count": 11,
   "id": "initial_id",
   "metadata": {
    "collapsed": true,
    "ExecuteTime": {
     "end_time": "2023-12-16T16:18:17.905567200Z",
     "start_time": "2023-12-16T16:18:17.676520Z"
    }
   },
   "outputs": [
    {
     "data": {
      "text/plain": "                    Company name Stock symbol Currency  Current price  \\\n0          Microsoft Corporation         MSFT      USD         376.17   \n1               Caterpillar Inc.          CAT      USD         248.53   \n2                     3M Company          MMM      USD          95.57   \n3         McDonald's Corporation          MCD      USD         276.04   \n4  The Goldman Sachs Group, Inc.           GS      USD         336.67   \n\n  Buy/sell  Buy/sell price  Qty. shares Buy/sell date  Target price  \\\n0      buy             NaN            1    2023-11-16           NaN   \n1      buy             NaN            1    2023-11-16           NaN   \n2      buy             NaN            1    2023-11-16           NaN   \n3      buy             NaN            1    2023-11-16           NaN   \n4      buy             NaN            1    2023-11-16           NaN   \n\n   Stop loss        Country              Sector  Ghosal Sector  Weight  \\\n0        NaN  United States          Technology            NaN     NaN   \n1        NaN  United States         Industrials            NaN     NaN   \n2        NaN  United States         Industrials            NaN     NaN   \n3        NaN  United States   Consumer Cyclical            NaN     NaN   \n4        NaN  United States  Financial Services            NaN     NaN   \n\n   Standardised current price  Standardised buy/sell price  P&L  Return  \n0                         NaN                          NaN  NaN     NaN  \n1                         NaN                          NaN  NaN     NaN  \n2                         NaN                          NaN  NaN     NaN  \n3                         NaN                          NaN  NaN     NaN  \n4                         NaN                          NaN  NaN     NaN  ",
      "text/html": "<div>\n<style scoped>\n    .dataframe tbody tr th:only-of-type {\n        vertical-align: middle;\n    }\n\n    .dataframe tbody tr th {\n        vertical-align: top;\n    }\n\n    .dataframe thead th {\n        text-align: right;\n    }\n</style>\n<table border=\"1\" class=\"dataframe\">\n  <thead>\n    <tr style=\"text-align: right;\">\n      <th></th>\n      <th>Company name</th>\n      <th>Stock symbol</th>\n      <th>Currency</th>\n      <th>Current price</th>\n      <th>Buy/sell</th>\n      <th>Buy/sell price</th>\n      <th>Qty. shares</th>\n      <th>Buy/sell date</th>\n      <th>Target price</th>\n      <th>Stop loss</th>\n      <th>Country</th>\n      <th>Sector</th>\n      <th>Ghosal Sector</th>\n      <th>Weight</th>\n      <th>Standardised current price</th>\n      <th>Standardised buy/sell price</th>\n      <th>P&amp;L</th>\n      <th>Return</th>\n    </tr>\n  </thead>\n  <tbody>\n    <tr>\n      <th>0</th>\n      <td>Microsoft Corporation</td>\n      <td>MSFT</td>\n      <td>USD</td>\n      <td>376.17</td>\n      <td>buy</td>\n      <td>NaN</td>\n      <td>1</td>\n      <td>2023-11-16</td>\n      <td>NaN</td>\n      <td>NaN</td>\n      <td>United States</td>\n      <td>Technology</td>\n      <td>NaN</td>\n      <td>NaN</td>\n      <td>NaN</td>\n      <td>NaN</td>\n      <td>NaN</td>\n      <td>NaN</td>\n    </tr>\n    <tr>\n      <th>1</th>\n      <td>Caterpillar Inc.</td>\n      <td>CAT</td>\n      <td>USD</td>\n      <td>248.53</td>\n      <td>buy</td>\n      <td>NaN</td>\n      <td>1</td>\n      <td>2023-11-16</td>\n      <td>NaN</td>\n      <td>NaN</td>\n      <td>United States</td>\n      <td>Industrials</td>\n      <td>NaN</td>\n      <td>NaN</td>\n      <td>NaN</td>\n      <td>NaN</td>\n      <td>NaN</td>\n      <td>NaN</td>\n    </tr>\n    <tr>\n      <th>2</th>\n      <td>3M Company</td>\n      <td>MMM</td>\n      <td>USD</td>\n      <td>95.57</td>\n      <td>buy</td>\n      <td>NaN</td>\n      <td>1</td>\n      <td>2023-11-16</td>\n      <td>NaN</td>\n      <td>NaN</td>\n      <td>United States</td>\n      <td>Industrials</td>\n      <td>NaN</td>\n      <td>NaN</td>\n      <td>NaN</td>\n      <td>NaN</td>\n      <td>NaN</td>\n      <td>NaN</td>\n    </tr>\n    <tr>\n      <th>3</th>\n      <td>McDonald's Corporation</td>\n      <td>MCD</td>\n      <td>USD</td>\n      <td>276.04</td>\n      <td>buy</td>\n      <td>NaN</td>\n      <td>1</td>\n      <td>2023-11-16</td>\n      <td>NaN</td>\n      <td>NaN</td>\n      <td>United States</td>\n      <td>Consumer Cyclical</td>\n      <td>NaN</td>\n      <td>NaN</td>\n      <td>NaN</td>\n      <td>NaN</td>\n      <td>NaN</td>\n      <td>NaN</td>\n    </tr>\n    <tr>\n      <th>4</th>\n      <td>The Goldman Sachs Group, Inc.</td>\n      <td>GS</td>\n      <td>USD</td>\n      <td>336.67</td>\n      <td>buy</td>\n      <td>NaN</td>\n      <td>1</td>\n      <td>2023-11-16</td>\n      <td>NaN</td>\n      <td>NaN</td>\n      <td>United States</td>\n      <td>Financial Services</td>\n      <td>NaN</td>\n      <td>NaN</td>\n      <td>NaN</td>\n      <td>NaN</td>\n      <td>NaN</td>\n      <td>NaN</td>\n    </tr>\n  </tbody>\n</table>\n</div>"
     },
     "execution_count": 11,
     "metadata": {},
     "output_type": "execute_result"
    }
   ],
   "source": [
    "import yfinance as yf\n",
    "import pypfopt as opt\n",
    "import pandas as pd\n",
    "import numpy as np\n",
    "import seaborn as sns\n",
    "\n",
    "from datetime import datetime\n",
    "from dateutil.relativedelta import relativedelta\n",
    "from matplotlib import pyplot as plt\n",
    "\n",
    "headers = ['Company name', 'Stock symbol', 'Currency', 'Current price', 'Buy/sell', 'Buy/sell price', 'Qty. shares', 'Buy/sell date', 'Target price', 'Stop loss', 'Country', 'Sector', 'Ghosal sector', 'Weight', 'Standardised current price', 'Standardised buy/sell price', 'P&L', 'Return']\n",
    "\n",
    "# date will be added to exported file\n",
    "# today_date = datetime.today().strftime('%Y-%m-%d')\n",
    "\n",
    "# reading in portfolio spreadsheet as pandas dataframe\n",
    "df = pd.read_excel('portfolio.xlsx', index_col=False)\n",
    "df.head()\n"
   ]
  },
  {
   "cell_type": "code",
   "execution_count": 12,
   "outputs": [
    {
     "name": "stdout",
     "output_type": "stream",
     "text": [
      "[*********************100%%**********************]  5 of 5 completed\n"
     ]
    },
    {
     "data": {
      "text/plain": "                   CAT          GS         MCD         MMM        MSFT\nDate                                                                  \n2018-12-17  110.195908  149.182892  161.042969  157.682983   97.704048\n2018-12-18  110.018852  152.281799  160.080963  159.105911   98.729614\n2018-12-19  108.301338  150.283905  159.591019  155.344177   98.463722\n2018-12-20  107.610786  149.538040  154.709564  153.234283   96.393600\n2018-12-21  106.300507  142.114883  155.128250  150.265778   93.278923\n...                ...         ...         ...         ...         ...\n2023-12-11  260.920013  351.760010  289.149994  103.160004  371.299988\n2023-12-12  261.429993  352.609985  291.420013  102.559998  374.380005\n2023-12-13  267.970001  362.730011  295.929993  104.190002  374.369995\n2023-12-14  285.170013  383.470001  290.019989  107.040001  365.929993\n2023-12-15  285.739990  380.510010  287.269989  106.980003  370.730011\n\n[1259 rows x 5 columns]",
      "text/html": "<div>\n<style scoped>\n    .dataframe tbody tr th:only-of-type {\n        vertical-align: middle;\n    }\n\n    .dataframe tbody tr th {\n        vertical-align: top;\n    }\n\n    .dataframe thead th {\n        text-align: right;\n    }\n</style>\n<table border=\"1\" class=\"dataframe\">\n  <thead>\n    <tr style=\"text-align: right;\">\n      <th></th>\n      <th>CAT</th>\n      <th>GS</th>\n      <th>MCD</th>\n      <th>MMM</th>\n      <th>MSFT</th>\n    </tr>\n    <tr>\n      <th>Date</th>\n      <th></th>\n      <th></th>\n      <th></th>\n      <th></th>\n      <th></th>\n    </tr>\n  </thead>\n  <tbody>\n    <tr>\n      <th>2018-12-17</th>\n      <td>110.195908</td>\n      <td>149.182892</td>\n      <td>161.042969</td>\n      <td>157.682983</td>\n      <td>97.704048</td>\n    </tr>\n    <tr>\n      <th>2018-12-18</th>\n      <td>110.018852</td>\n      <td>152.281799</td>\n      <td>160.080963</td>\n      <td>159.105911</td>\n      <td>98.729614</td>\n    </tr>\n    <tr>\n      <th>2018-12-19</th>\n      <td>108.301338</td>\n      <td>150.283905</td>\n      <td>159.591019</td>\n      <td>155.344177</td>\n      <td>98.463722</td>\n    </tr>\n    <tr>\n      <th>2018-12-20</th>\n      <td>107.610786</td>\n      <td>149.538040</td>\n      <td>154.709564</td>\n      <td>153.234283</td>\n      <td>96.393600</td>\n    </tr>\n    <tr>\n      <th>2018-12-21</th>\n      <td>106.300507</td>\n      <td>142.114883</td>\n      <td>155.128250</td>\n      <td>150.265778</td>\n      <td>93.278923</td>\n    </tr>\n    <tr>\n      <th>...</th>\n      <td>...</td>\n      <td>...</td>\n      <td>...</td>\n      <td>...</td>\n      <td>...</td>\n    </tr>\n    <tr>\n      <th>2023-12-11</th>\n      <td>260.920013</td>\n      <td>351.760010</td>\n      <td>289.149994</td>\n      <td>103.160004</td>\n      <td>371.299988</td>\n    </tr>\n    <tr>\n      <th>2023-12-12</th>\n      <td>261.429993</td>\n      <td>352.609985</td>\n      <td>291.420013</td>\n      <td>102.559998</td>\n      <td>374.380005</td>\n    </tr>\n    <tr>\n      <th>2023-12-13</th>\n      <td>267.970001</td>\n      <td>362.730011</td>\n      <td>295.929993</td>\n      <td>104.190002</td>\n      <td>374.369995</td>\n    </tr>\n    <tr>\n      <th>2023-12-14</th>\n      <td>285.170013</td>\n      <td>383.470001</td>\n      <td>290.019989</td>\n      <td>107.040001</td>\n      <td>365.929993</td>\n    </tr>\n    <tr>\n      <th>2023-12-15</th>\n      <td>285.739990</td>\n      <td>380.510010</td>\n      <td>287.269989</td>\n      <td>106.980003</td>\n      <td>370.730011</td>\n    </tr>\n  </tbody>\n</table>\n<p>1259 rows × 5 columns</p>\n</div>"
     },
     "execution_count": 12,
     "metadata": {},
     "output_type": "execute_result"
    }
   ],
   "source": [
    "symbols = df['Stock symbol']\n",
    "symbols_str = ''.join(symbol + ' ' for symbol in symbols)\n",
    "latest_prices = df['Current price']\n",
    "\n",
    "\n",
    "# handles data parameters for yf.download(), all you need to do is adjust how far back you want to go\n",
    "years_back = 5\n",
    "today_date_raw = datetime.today()\n",
    "start_date_raw = today_date_raw - relativedelta(years=years_back)\n",
    "today_date = today_date_raw.strftime('%Y-%m-%d')\n",
    "start_date = start_date_raw.strftime('%Y-%m-%d')\n",
    "\n",
    "\n",
    "data = yf.download(symbols_str, start=start_date,end=today_date)\n",
    "prices = data['Adj Close']\n",
    "prices\n",
    "\n"
   ],
   "metadata": {
    "collapsed": false,
    "ExecuteTime": {
     "end_time": "2023-12-16T16:18:18.320676800Z",
     "start_time": "2023-12-16T16:18:17.872561Z"
    }
   },
   "id": "611974d946ec120a"
  },
  {
   "cell_type": "code",
   "execution_count": 13,
   "outputs": [
    {
     "data": {
      "text/plain": "CAT     0.210299\nGS      0.206309\nMCD     0.122922\nMMM    -0.074769\nMSFT    0.306211\ndtype: float64"
     },
     "execution_count": 13,
     "metadata": {},
     "output_type": "execute_result"
    }
   ],
   "source": [
    "# returns Pandas series - vector\n",
    "expected_returns = opt.expected_returns.mean_historical_return(prices)\n",
    "expected_returns"
   ],
   "metadata": {
    "collapsed": false,
    "ExecuteTime": {
     "end_time": "2023-12-16T16:18:18.516697Z",
     "start_time": "2023-12-16T16:18:18.229356200Z"
    }
   },
   "id": "10f5fa6155377ac3"
  },
  {
   "cell_type": "code",
   "execution_count": 14,
   "outputs": [
    {
     "data": {
      "text/plain": "<Axes: >"
     },
     "execution_count": 14,
     "metadata": {},
     "output_type": "execute_result"
    },
    {
     "data": {
      "text/plain": "<Figure size 640x480 with 2 Axes>",
      "image/png": "[encoded data removed]"
     },
     "metadata": {},
     "output_type": "display_data"
    }
   ],
   "source": [
    "\n",
    "# covariance matrix of asset returns\n",
    "return_cov = opt.risk_models.sample_cov(prices)\n",
    "sns.heatmap(return_cov, cmap='rocket')\n"
   ],
   "metadata": {
    "collapsed": false,
    "ExecuteTime": {
     "end_time": "2023-12-16T16:18:19.056437500Z",
     "start_time": "2023-12-16T16:18:18.262674700Z"
    }
   },
   "id": "a68e8ce3cfc85467"
  },
  {
   "cell_type": "code",
   "execution_count": 15,
   "outputs": [],
   "source": [
    "from pypfopt import plotting\n",
    "# assuming we're using Conditional Value at Risk (CVaR) for efficient frontier\n",
    "# class methods in efficient_frontier classes return optimal portfolio weights as OrderedDict\n",
    "\n",
    "# fig, ax = plt.subplots()\n",
    "# plotting.plot_efficient_frontier(ec, ef_param='risk', ef_param_range='min_cvar', ax=ax, show_assets=True)\n",
    "plt.show()\n",
    "\n",
    "#EFFICIENT FRONTIER\n",
    "# to plot the entire frontier, pass the EfficientFrontier object into the plotting function BEFORE calling an optimisation function like ef.min_volatility(). it doesn't like it when you don't\n",
    "\n",
    "\n",
    "# ef = opt.EfficientFrontier(expected_returns, return_cov)\n",
    "# # ef.add_objective(opt.objective_functions().CVaR(alpha=0.05))\n",
    "# fig, ax = plt.subplots()\n",
    "# plotting.plot_efficient_frontier(ef, ef_param='return', ax=ax, show_assets=True)\n",
    "# plt.show()\n",
    "\n"
   ],
   "metadata": {
    "collapsed": false,
    "ExecuteTime": {
     "end_time": "2023-12-16T16:18:19.096780900Z",
     "start_time": "2023-12-16T16:18:19.058438400Z"
    }
   },
   "id": "5b06833396556213"
  },
  {
   "cell_type": "markdown",
   "source": [
    "class parameter details\n",
    "ef = EfficientCVaR(expected_returns(np array), returns(pd df), beta=0.95, weight_bounds=(0,1), solver=None(string, optional), verbose=False, solver_options=None)\n",
    "\n",
    "note: success with regular EfficientFrontier. EfficientCVaR gives weights but won't let me plot the efficient frontier at all."
   ],
   "metadata": {
    "collapsed": false
   },
   "id": "ab9eb681a8a4e02a"
  },
  {
   "cell_type": "code",
   "execution_count": 16,
   "outputs": [
    {
     "name": "stdout",
     "output_type": "stream",
     "text": [
      "Expected annual return: 16.7%\n",
      "Conditional Value at Risk: -4.46%\n",
      "Discrete allocation: {'GS': 23, 'MCD': 20, 'MMM': 4}\n",
      "Funds remaining: $74.95\n"
     ]
    },
    {
     "name": "stderr",
     "output_type": "stream",
     "text": [
      "C:\\Users\\EYKS\\anaconda3\\Lib\\site-packages\\cvxpy\\reductions\\solvers\\solving_chain.py:336: FutureWarning: \n",
      "    Your problem is being solved with the ECOS solver by default. Starting in \n",
      "    CVXPY 1.5.0, Clarabel will be used as the default solver instead. To continue \n",
      "    using ECOS, specify the ECOS solver explicitly using the ``solver=cp.ECOS`` \n",
      "    argument to the ``problem.solve`` method.\n",
      "    \n",
      "  warnings.warn(ECOS_DEPRECATION_MSG, FutureWarning)\n"
     ]
    }
   ],
   "source": [
    "ec = opt.EfficientCVaR(expected_returns, return_cov, weight_bounds=(0, 1))\n",
    "\n",
    "cvar_weights = ec.min_cvar()\n",
    "ec.portfolio_performance(verbose=True)\n",
    "\n",
    "latest_prices = prices.iloc[-1]\n",
    "\n",
    "# here, weights should be an OrderedDict generated by an efficient_frontier class\n",
    "da = opt.DiscreteAllocation(cvar_weights, latest_prices, total_portfolio_value=15000, short_ratio=None)\n",
    "\n",
    "\n",
    "# greedy portfolio vs. integer programming\n",
    "# greedy portfolio: buys as many shares as possible for each asset without going over desired weight, then bin packs the remainder, prioritising assets w/ the biggest diff. between their current weight and ideal weight\n",
    "# tradeoff between optimal and computational efficiency\n",
    "allocation, leftover = da.greedy_portfolio()\n",
    "print(f\"Discrete allocation: {allocation}\")\n",
    "print(f\"Funds remaining: ${leftover:.2f}\")"
   ],
   "metadata": {
    "collapsed": false,
    "ExecuteTime": {
     "end_time": "2023-12-16T16:18:19.286496100Z",
     "start_time": "2023-12-16T16:18:19.071782Z"
    }
   },
   "id": "5bcb3bac4cd6a40a"
  },
  {
   "cell_type": "code",
   "execution_count": 19,
   "outputs": [
    {
     "data": {
      "text/plain": "<Axes: >"
     },
     "execution_count": 19,
     "metadata": {},
     "output_type": "execute_result"
    },
    {
     "data": {
      "text/plain": "<Figure size 640x480 with 1 Axes>",
      "image/png": "[encoded data removed]"
     },
     "metadata": {},
     "output_type": "display_data"
    }
   ],
   "source": [
    "pd.Series(cvar_weights).plot.pie()"
   ],
   "metadata": {
    "collapsed": false,
    "ExecuteTime": {
     "end_time": "2023-12-16T16:21:14.812107900Z",
     "start_time": "2023-12-16T16:21:14.513113600Z"
    }
   },
   "id": "888449030933c8e8"
  },
  {
   "cell_type": "code",
   "execution_count": null,
   "outputs": [],
   "source": [],
   "metadata": {
    "collapsed": false
   },
   "id": "55a83a99d1b7d78d"
  }
 ],
 "metadata": {
  "kernelspec": {
   "display_name": "Python 3",
   "language": "python",
   "name": "python3"
  },
  "language_info": {
   "codemirror_mode": {
    "name": "ipython",
    "version": 2
   },
   "file_extension": ".py",
   "mimetype": "text/x-python",
   "name": "python",
   "nbconvert_exporter": "python",
   "pygments_lexer": "ipython2",
   "version": "2.7.6"
  }
 },
 "nbformat": 4,
 "nbformat_minor": 5
}
