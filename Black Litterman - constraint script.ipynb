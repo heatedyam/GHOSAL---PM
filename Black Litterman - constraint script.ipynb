{
 "cells": [
  {
   "cell_type": "code",
   "execution_count": 2,
   "id": "initial_id",
   "metadata": {
    "collapsed": true,
    "ExecuteTime": {
     "end_time": "2024-01-09T16:25:57.267378300Z",
     "start_time": "2024-01-09T16:25:52.967051700Z"
    }
   },
   "outputs": [
    {
     "data": {
      "text/plain": "                    Company name Stock symbol Currency  Current price  \\\n0          Microsoft Corporation         MSFT      USD         376.17   \n1               Caterpillar Inc.          CAT      USD         248.53   \n2                     3M Company          MMM      USD          95.57   \n3         McDonald's Corporation          MCD      USD         276.04   \n4  The Goldman Sachs Group, Inc.           GS      USD         336.67   \n\n  Buy/sell  Buy/sell price  Qty. shares Buy/sell date  Target price  \\\n0      buy             NaN            1    2023-11-16           NaN   \n1      buy             NaN            1    2023-11-16           NaN   \n2      buy             NaN            1    2023-11-16           NaN   \n3      buy             NaN            1    2023-11-16           NaN   \n4      buy             NaN            1    2023-11-16           NaN   \n\n   Stop loss        Country              Sector  Ghosal Sector  Weight  \\\n0        NaN  United States          Technology            NaN     NaN   \n1        NaN  United States         Industrials            NaN     NaN   \n2        NaN  United States         Industrials            NaN     NaN   \n3        NaN  United States   Consumer Cyclical            NaN     NaN   \n4        NaN  United States  Financial Services            NaN     NaN   \n\n   Standardised current price  Standardised buy/sell price  P&L  Return  \n0                         NaN                          NaN  NaN     NaN  \n1                         NaN                          NaN  NaN     NaN  \n2                         NaN                          NaN  NaN     NaN  \n3                         NaN                          NaN  NaN     NaN  \n4                         NaN                          NaN  NaN     NaN  ",
      "text/html": "<div>\n<style scoped>\n    .dataframe tbody tr th:only-of-type {\n        vertical-align: middle;\n    }\n\n    .dataframe tbody tr th {\n        vertical-align: top;\n    }\n\n    .dataframe thead th {\n        text-align: right;\n    }\n</style>\n<table border=\"1\" class=\"dataframe\">\n  <thead>\n    <tr style=\"text-align: right;\">\n      <th></th>\n      <th>Company name</th>\n      <th>Stock symbol</th>\n      <th>Currency</th>\n      <th>Current price</th>\n      <th>Buy/sell</th>\n      <th>Buy/sell price</th>\n      <th>Qty. shares</th>\n      <th>Buy/sell date</th>\n      <th>Target price</th>\n      <th>Stop loss</th>\n      <th>Country</th>\n      <th>Sector</th>\n      <th>Ghosal Sector</th>\n      <th>Weight</th>\n      <th>Standardised current price</th>\n      <th>Standardised buy/sell price</th>\n      <th>P&amp;L</th>\n      <th>Return</th>\n    </tr>\n  </thead>\n  <tbody>\n    <tr>\n      <th>0</th>\n      <td>Microsoft Corporation</td>\n      <td>MSFT</td>\n      <td>USD</td>\n      <td>376.17</td>\n      <td>buy</td>\n      <td>NaN</td>\n      <td>1</td>\n      <td>2023-11-16</td>\n      <td>NaN</td>\n      <td>NaN</td>\n      <td>United States</td>\n      <td>Technology</td>\n      <td>NaN</td>\n      <td>NaN</td>\n      <td>NaN</td>\n      <td>NaN</td>\n      <td>NaN</td>\n      <td>NaN</td>\n    </tr>\n    <tr>\n      <th>1</th>\n      <td>Caterpillar Inc.</td>\n      <td>CAT</td>\n      <td>USD</td>\n      <td>248.53</td>\n      <td>buy</td>\n      <td>NaN</td>\n      <td>1</td>\n      <td>2023-11-16</td>\n      <td>NaN</td>\n      <td>NaN</td>\n      <td>United States</td>\n      <td>Industrials</td>\n      <td>NaN</td>\n      <td>NaN</td>\n      <td>NaN</td>\n      <td>NaN</td>\n      <td>NaN</td>\n      <td>NaN</td>\n    </tr>\n    <tr>\n      <th>2</th>\n      <td>3M Company</td>\n      <td>MMM</td>\n      <td>USD</td>\n      <td>95.57</td>\n      <td>buy</td>\n      <td>NaN</td>\n      <td>1</td>\n      <td>2023-11-16</td>\n      <td>NaN</td>\n      <td>NaN</td>\n      <td>United States</td>\n      <td>Industrials</td>\n      <td>NaN</td>\n      <td>NaN</td>\n      <td>NaN</td>\n      <td>NaN</td>\n      <td>NaN</td>\n      <td>NaN</td>\n    </tr>\n    <tr>\n      <th>3</th>\n      <td>McDonald's Corporation</td>\n      <td>MCD</td>\n      <td>USD</td>\n      <td>276.04</td>\n      <td>buy</td>\n      <td>NaN</td>\n      <td>1</td>\n      <td>2023-11-16</td>\n      <td>NaN</td>\n      <td>NaN</td>\n      <td>United States</td>\n      <td>Consumer Cyclical</td>\n      <td>NaN</td>\n      <td>NaN</td>\n      <td>NaN</td>\n      <td>NaN</td>\n      <td>NaN</td>\n      <td>NaN</td>\n    </tr>\n    <tr>\n      <th>4</th>\n      <td>The Goldman Sachs Group, Inc.</td>\n      <td>GS</td>\n      <td>USD</td>\n      <td>336.67</td>\n      <td>buy</td>\n      <td>NaN</td>\n      <td>1</td>\n      <td>2023-11-16</td>\n      <td>NaN</td>\n      <td>NaN</td>\n      <td>United States</td>\n      <td>Financial Services</td>\n      <td>NaN</td>\n      <td>NaN</td>\n      <td>NaN</td>\n      <td>NaN</td>\n      <td>NaN</td>\n      <td>NaN</td>\n    </tr>\n  </tbody>\n</table>\n</div>"
     },
     "execution_count": 2,
     "metadata": {},
     "output_type": "execute_result"
    }
   ],
   "source": [
    "import yfinance as yf\n",
    "import pypfopt as opt\n",
    "from pypfopt import plotting\n",
    "import pandas as pd\n",
    "import seaborn as sns\n",
    "import numpy as np\n",
    "\n",
    "from datetime import datetime\n",
    "from dateutil.relativedelta import relativedelta\n",
    "from matplotlib import pyplot as plt\n",
    "\n",
    "headers = ['Company name', 'Stock symbol', 'Currency', 'Current price', 'Buy/sell', 'Buy/sell price', 'Qty. shares', 'Buy/sell date', 'Target price', 'Stop loss', 'Country', 'Sector', 'Ghosal sector', 'Weight', 'Standardised current price', 'Standardised buy/sell price', 'P&L', 'Return']\n",
    "\n",
    "# date will be added to exported file\n",
    "# today_date = datetime.today().strftime('%Y-%m-%d')\n",
    "\n",
    "# reading in portfolio spreadsheet as pandas dataframe\n",
    "df = pd.read_excel('portfolio.xlsx', index_col=False)\n",
    "df.head()\n"
   ]
  },
  {
   "cell_type": "code",
   "execution_count": 3,
   "outputs": [
    {
     "name": "stdout",
     "output_type": "stream",
     "text": [
      "[*********************100%%**********************]  5 of 5 completed\n"
     ]
    },
    {
     "data": {
      "text/plain": "                   CAT          GS         MCD         MMM        MSFT\nDate                                                                  \n2019-01-09  115.330780  156.694824  160.597626  157.257721   99.014488\n2019-01-10  117.712318  156.277512  161.719971  158.320831   98.378273\n2019-01-11  116.950920  157.103287  162.450409  157.184143   97.618599\n2019-01-14  116.685333  158.692719  161.426056  157.151443   96.906403\n2019-01-15  115.702637  159.749359  161.247864  154.509979   99.717194\n...                ...         ...         ...         ...         ...\n2024-01-02  292.709991  388.299988  297.040009  110.000000  370.869995\n2024-01-03  284.299988  381.790009  294.390015  107.790001  370.600006\n2024-01-04  286.100006  382.950012  291.739990  108.169998  367.940002\n2024-01-05  288.929993  386.440002  288.989990  108.589996  367.750000\n2024-01-08  292.250000  388.859985  291.899994  108.860001  374.690002\n\n[1258 rows x 5 columns]",
      "text/html": "<div>\n<style scoped>\n    .dataframe tbody tr th:only-of-type {\n        vertical-align: middle;\n    }\n\n    .dataframe tbody tr th {\n        vertical-align: top;\n    }\n\n    .dataframe thead th {\n        text-align: right;\n    }\n</style>\n<table border=\"1\" class=\"dataframe\">\n  <thead>\n    <tr style=\"text-align: right;\">\n      <th></th>\n      <th>CAT</th>\n      <th>GS</th>\n      <th>MCD</th>\n      <th>MMM</th>\n      <th>MSFT</th>\n    </tr>\n    <tr>\n      <th>Date</th>\n      <th></th>\n      <th></th>\n      <th></th>\n      <th></th>\n      <th></th>\n    </tr>\n  </thead>\n  <tbody>\n    <tr>\n      <th>2019-01-09</th>\n      <td>115.330780</td>\n      <td>156.694824</td>\n      <td>160.597626</td>\n      <td>157.257721</td>\n      <td>99.014488</td>\n    </tr>\n    <tr>\n      <th>2019-01-10</th>\n      <td>117.712318</td>\n      <td>156.277512</td>\n      <td>161.719971</td>\n      <td>158.320831</td>\n      <td>98.378273</td>\n    </tr>\n    <tr>\n      <th>2019-01-11</th>\n      <td>116.950920</td>\n      <td>157.103287</td>\n      <td>162.450409</td>\n      <td>157.184143</td>\n      <td>97.618599</td>\n    </tr>\n    <tr>\n      <th>2019-01-14</th>\n      <td>116.685333</td>\n      <td>158.692719</td>\n      <td>161.426056</td>\n      <td>157.151443</td>\n      <td>96.906403</td>\n    </tr>\n    <tr>\n      <th>2019-01-15</th>\n      <td>115.702637</td>\n      <td>159.749359</td>\n      <td>161.247864</td>\n      <td>154.509979</td>\n      <td>99.717194</td>\n    </tr>\n    <tr>\n      <th>...</th>\n      <td>...</td>\n      <td>...</td>\n      <td>...</td>\n      <td>...</td>\n      <td>...</td>\n    </tr>\n    <tr>\n      <th>2024-01-02</th>\n      <td>292.709991</td>\n      <td>388.299988</td>\n      <td>297.040009</td>\n      <td>110.000000</td>\n      <td>370.869995</td>\n    </tr>\n    <tr>\n      <th>2024-01-03</th>\n      <td>284.299988</td>\n      <td>381.790009</td>\n      <td>294.390015</td>\n      <td>107.790001</td>\n      <td>370.600006</td>\n    </tr>\n    <tr>\n      <th>2024-01-04</th>\n      <td>286.100006</td>\n      <td>382.950012</td>\n      <td>291.739990</td>\n      <td>108.169998</td>\n      <td>367.940002</td>\n    </tr>\n    <tr>\n      <th>2024-01-05</th>\n      <td>288.929993</td>\n      <td>386.440002</td>\n      <td>288.989990</td>\n      <td>108.589996</td>\n      <td>367.750000</td>\n    </tr>\n    <tr>\n      <th>2024-01-08</th>\n      <td>292.250000</td>\n      <td>388.859985</td>\n      <td>291.899994</td>\n      <td>108.860001</td>\n      <td>374.690002</td>\n    </tr>\n  </tbody>\n</table>\n<p>1258 rows × 5 columns</p>\n</div>"
     },
     "execution_count": 3,
     "metadata": {},
     "output_type": "execute_result"
    }
   ],
   "source": [
    "# parsing data\n",
    "symbols = df['Stock symbol']\n",
    "symbols_str = ''.join(symbol + ' ' for symbol in symbols)\n",
    "latest_prices = df['Current price']\n",
    "\n",
    "# handles how far back you wanna go. you can also change \"years\" parameter to \"months\" if needed and make a new variable months_back\n",
    "years_back = 5\n",
    "\n",
    "today_date_raw = datetime.today()\n",
    "start_date_raw = today_date_raw - relativedelta(years=years_back)\n",
    "today_date = today_date_raw.strftime('%Y-%m-%d')\n",
    "start_date = start_date_raw.strftime('%Y-%m-%d')\n",
    "\n",
    "# downloads historical prices for each stock symbol\n",
    "prices = yf.download(symbols_str, start=start_date,end=today_date)['Adj Close']\n",
    "prices"
   ],
   "metadata": {
    "collapsed": false,
    "ExecuteTime": {
     "end_time": "2024-01-09T16:26:25.392667100Z",
     "start_time": "2024-01-09T16:25:57.262378400Z"
    }
   },
   "id": "611974d946ec120a"
  },
  {
   "cell_type": "code",
   "execution_count": 4,
   "outputs": [
    {
     "name": "stdout",
     "output_type": "stream",
     "text": [
      "[*********************100%%**********************]  1 of 1 completed\n"
     ]
    },
    {
     "data": {
      "text/plain": "Date\n1993-01-29     24.840675\n1993-02-01     25.017365\n1993-02-02     25.070354\n1993-02-03     25.335369\n1993-02-04     25.441387\n                 ...    \n2024-01-03    468.790009\n2024-01-04    467.279999\n2024-01-05    467.920013\n2024-01-08    474.600006\n2024-01-09    473.304993\nName: Adj Close, Length: 7792, dtype: float64"
     },
     "execution_count": 4,
     "metadata": {},
     "output_type": "execute_result"
    }
   ],
   "source": [
    "# downloads historical market data from S&P500\n",
    "# we may want to consider what an appropriate time period is with respect to our historical asset returns, and investment time horizon \n",
    "market_prices = yf.download(\"SPY\", period=\"max\")[\"Adj Close\"]\n",
    "market_prices"
   ],
   "metadata": {
    "collapsed": false,
    "ExecuteTime": {
     "end_time": "2024-01-09T16:26:25.900147300Z",
     "start_time": "2024-01-09T16:26:25.374667100Z"
    }
   },
   "id": "c97b50b692cd14a"
  },
  {
   "cell_type": "code",
   "execution_count": 5,
   "outputs": [
    {
     "data": {
      "text/plain": "{'MSFT': 2780780069555.4844,\n 'CAT': 148860882303.4668,\n 'MMM': 59710990342.22754,\n 'MCD': 208786073480.94727,\n 'GS': 126782905053.71094}"
     },
     "execution_count": 5,
     "metadata": {},
     "output_type": "execute_result"
    }
   ],
   "source": [
    "# parameter for market-implied returns vector (prior)\n",
    "market_caps = {}\n",
    "for symbol in symbols:\n",
    "    ticker = yf.Ticker(symbol)\n",
    "    market_caps[symbol] = ticker.fast_info['marketCap'] \n",
    "\n",
    "market_caps"
   ],
   "metadata": {
    "collapsed": false,
    "ExecuteTime": {
     "end_time": "2024-01-09T16:26:51.900988300Z",
     "start_time": "2024-01-09T16:26:25.807608800Z"
    }
   },
   "id": "ca2b39f1a0567b2a"
  },
  {
   "cell_type": "code",
   "execution_count": 6,
   "outputs": [
    {
     "data": {
      "text/plain": "2.0863104534086543"
     },
     "execution_count": 6,
     "metadata": {},
     "output_type": "execute_result"
    }
   ],
   "source": [
    "\n",
    "# returns Pandas series - vector\n",
    "# expected/implied returns needed for optimisation along each efficient frontier\n",
    "\n",
    "# delta = market-implied risk premium --> excess return/variance\n",
    "# risk-free rate based on 5y US treasury yield, should reflect time period of returns\n",
    "delta = opt.black_litterman.market_implied_risk_aversion(market_prices, risk_free_rate=0.0395)\n",
    "delta"
   ],
   "metadata": {
    "collapsed": false,
    "ExecuteTime": {
     "end_time": "2024-01-09T16:26:51.990990500Z",
     "start_time": "2024-01-09T16:26:51.829301Z"
    }
   },
   "id": "7abf0e313bf8b390"
  },
  {
   "cell_type": "markdown",
   "source": [
    "Yield curve\n",
    "https://markets.ft.com/data/bonds"
   ],
   "metadata": {
    "collapsed": false
   },
   "id": "c1ba43f3514eca11"
  },
  {
   "cell_type": "code",
   "execution_count": 7,
   "outputs": [
    {
     "data": {
      "text/plain": "<Axes: >"
     },
     "execution_count": 7,
     "metadata": {},
     "output_type": "execute_result"
    },
    {
     "data": {
      "text/plain": "<Figure size 640x480 with 2 Axes>",
      "image/png": "[encoded data removed]"
     },
     "metadata": {},
     "output_type": "display_data"
    }
   ],
   "source": [
    "\n",
    "# square covariance matrix made using covariance shrinkage estimator - LW method, const. variance shrinkage\n",
    "# considering revising whether this is the most appropriate method\n",
    "Sigma = opt.risk_models.CovarianceShrinkage(prices).ledoit_wolf(shrinkage_target='constant_variance')\n",
    "\n",
    "\n",
    "# plots correlation using shrinkage estimate covar. matrix\n",
    "# opt.plotting.plot_covariance(Sigma, plot_correlation=False)\n",
    "\n",
    "# return_cov = opt.risk_models.sample_cov(prices)\n",
    "sns.heatmap(Sigma, cmap='viridis')"
   ],
   "metadata": {
    "collapsed": false,
    "ExecuteTime": {
     "end_time": "2024-01-09T16:26:53.766124100Z",
     "start_time": "2024-01-09T16:26:51.860984Z"
    }
   },
   "id": "da88e3721f963f1c"
  },
  {
   "cell_type": "markdown",
   "source": [
    "Covariance matrices based on sample covariance may not accurately reflect the underlying covariance structure of the market, and is sensitive to outliers. Rather than using a sample cov. matrix (unbiased, but poor estimate), we'll fit it to a matrix that's a \"shrinkage target\" (high bias, but low est. error)."
   ],
   "metadata": {
    "collapsed": false
   },
   "id": "5c5fb39d9dc77d"
  },
  {
   "cell_type": "code",
   "execution_count": 8,
   "outputs": [
    {
     "data": {
      "text/plain": "CAT     0.100690\nGS      0.124244\nMCD     0.093727\nMMM     0.090023\nMSFT    0.193386\ndtype: float64"
     },
     "execution_count": 8,
     "metadata": {},
     "output_type": "execute_result"
    }
   ],
   "source": [
    "# prior estimate of returns\n",
    "market_prior = opt.black_litterman.market_implied_prior_returns(market_caps, delta, Sigma)\n",
    "market_prior"
   ],
   "metadata": {
    "collapsed": false,
    "ExecuteTime": {
     "end_time": "2024-01-09T16:26:53.808549800Z",
     "start_time": "2024-01-09T16:26:53.766124100Z"
    }
   },
   "id": "5051882d6c017c"
  },
  {
   "cell_type": "code",
   "execution_count": 9,
   "outputs": [
    {
     "data": {
      "text/plain": "<Axes: >"
     },
     "execution_count": 9,
     "metadata": {},
     "output_type": "execute_result"
    },
    {
     "data": {
      "text/plain": "<Figure size 640x480 with 2 Axes>",
      "image/png": "[encoded data removed]"
     },
     "metadata": {},
     "output_type": "display_data"
    }
   ],
   "source": [
    "# adding views - forming posterior\n",
    "\n",
    "view_dict = {\n",
    "    'MMM': 0.01,\n",
    "    'MCD': 0.3,\n",
    "    'GS': 0.07,\n",
    "    'CAT': 0.23,\n",
    "    'MSFT': 0.14\n",
    "}\n",
    "\n",
    "confidences =[\n",
    "    0.1,\n",
    "    0.4,\n",
    "    0.5,\n",
    "    0.65,\n",
    "    0.7\n",
    "]\n",
    "\n",
    "bl = opt.BlackLittermanModel(Sigma, pi=market_prior, absolute_views=view_dict, view_confidences=confidences, omega='idzorek')\n",
    "\n",
    "omega = bl.omega\n",
    "sns.heatmap(omega, cmap='viridis')\n"
   ],
   "metadata": {
    "collapsed": false,
    "ExecuteTime": {
     "end_time": "2024-01-09T16:26:54.414313Z",
     "start_time": "2024-01-09T16:26:53.790547400Z"
    }
   },
   "id": "a9f479391984280f"
  },
  {
   "cell_type": "code",
   "execution_count": 10,
   "outputs": [
    {
     "data": {
      "text/plain": "array([0.03455027, 0.0040464 , 0.00533049, 0.00283394, 0.00197405])"
     },
     "execution_count": 10,
     "metadata": {},
     "output_type": "execute_result"
    }
   ],
   "source": [
    "np.diag(omega)\n"
   ],
   "metadata": {
    "collapsed": false,
    "ExecuteTime": {
     "end_time": "2024-01-09T16:26:54.460578600Z",
     "start_time": "2024-01-09T16:26:54.419312400Z"
    }
   },
   "id": "836af694c146ca57"
  },
  {
   "cell_type": "code",
   "execution_count": 11,
   "outputs": [
    {
     "data": {
      "text/plain": "CAT     0.174478\nGS      0.138805\nMCD     0.158326\nMMM     0.119512\nMSFT    0.173451\ndtype: float64"
     },
     "execution_count": 11,
     "metadata": {},
     "output_type": "execute_result"
    }
   ],
   "source": [
    "# posterior estimate given views and confidences\n",
    "posterior = bl.bl_returns()\n",
    "posterior"
   ],
   "metadata": {
    "collapsed": false,
    "ExecuteTime": {
     "end_time": "2024-01-09T16:26:54.498575Z",
     "start_time": "2024-01-09T16:26:54.434141Z"
    }
   },
   "id": "801574968c6be30"
  },
  {
   "cell_type": "code",
   "execution_count": 11,
   "outputs": [],
   "source": [
    "\n",
    "\n",
    "\n",
    "\n"
   ],
   "metadata": {
    "collapsed": false,
    "ExecuteTime": {
     "end_time": "2024-01-09T16:26:54.499575200Z",
     "start_time": "2024-01-09T16:26:54.447546800Z"
    }
   },
   "id": "5b06833396556213"
  },
  {
   "cell_type": "markdown",
   "source": [
    "class parameter details\n",
    "ef = EfficientCVaR(expected_returns(np array), returns(pd df), beta=0.95, weight_bounds=(0,1), solver=None(string, optional), verbose=False, solver_options=None)\n",
    "\n",
    "EFFICIENT FRONTIER\n",
    "to plot the entire frontier, pass the EfficientFrontier object into the plotting function BEFORE calling an optimisation function like ef.min_volatility(). it doesn't like it when you don't\n",
    "\n",
    "note: success plotting efficient frontier with regular EfficientFrontier. EfficientCVaR gives weights but won't let me plot the efficient frontier at all."
   ],
   "metadata": {
    "collapsed": false
   },
   "id": "ab9eb681a8a4e02a"
  },
  {
   "cell_type": "code",
   "execution_count": 12,
   "outputs": [
    {
     "ename": "NotImplementedError",
     "evalue": "Method not available in EfficientCVaR.",
     "output_type": "error",
     "traceback": [
      "\u001B[1;31m---------------------------------------------------------------------------\u001B[0m",
      "\u001B[1;31mNotImplementedError\u001B[0m                       Traceback (most recent call last)",
      "Cell \u001B[1;32mIn[12], line 6\u001B[0m\n\u001B[0;32m      3\u001B[0m ec \u001B[38;5;241m=\u001B[39m opt\u001B[38;5;241m.\u001B[39mEfficientCVaR(posterior, Sigma, weight_bounds\u001B[38;5;241m=\u001B[39m(\u001B[38;5;241m0\u001B[39m, \u001B[38;5;241m0.05\u001B[39m))\n\u001B[0;32m      5\u001B[0m \u001B[38;5;66;03m# objective function\u001B[39;00m\n\u001B[1;32m----> 6\u001B[0m cvar_weights_dict \u001B[38;5;241m=\u001B[39m ec\u001B[38;5;241m.\u001B[39mmax_sharpe()\n\u001B[0;32m      7\u001B[0m ec\u001B[38;5;241m.\u001B[39mportfolio_performance(verbose\u001B[38;5;241m=\u001B[39m\u001B[38;5;28;01mTrue\u001B[39;00m)\n\u001B[0;32m      9\u001B[0m latest_prices \u001B[38;5;241m=\u001B[39m prices\u001B[38;5;241m.\u001B[39miloc[\u001B[38;5;241m-\u001B[39m\u001B[38;5;241m1\u001B[39m]\n",
      "File \u001B[1;32m~\\anaconda3\\Lib\\site-packages\\pypfopt\\efficient_frontier\\efficient_cvar.py:111\u001B[0m, in \u001B[0;36mEfficientCVaR.max_sharpe\u001B[1;34m(self, risk_free_rate)\u001B[0m\n\u001B[0;32m    110\u001B[0m \u001B[38;5;28;01mdef\u001B[39;00m \u001B[38;5;21mmax_sharpe\u001B[39m(\u001B[38;5;28mself\u001B[39m, risk_free_rate\u001B[38;5;241m=\u001B[39m\u001B[38;5;241m0.02\u001B[39m):\n\u001B[1;32m--> 111\u001B[0m     \u001B[38;5;28;01mraise\u001B[39;00m \u001B[38;5;167;01mNotImplementedError\u001B[39;00m(\u001B[38;5;124m\"\u001B[39m\u001B[38;5;124mMethod not available in EfficientCVaR.\u001B[39m\u001B[38;5;124m\"\u001B[39m)\n",
      "\u001B[1;31mNotImplementedError\u001B[0m: Method not available in EfficientCVaR."
     ]
    }
   ],
   "source": [
    "# assuming we're using Conditional Value at Risk (CVaR) for efficient frontier\n",
    "# class methods in efficient_frontier classes return optimal portfolio weights as OrderedDict\n",
    "ec = opt.EfficientCVaR(posterior, Sigma, weight_bounds=(0, 0.05))\n",
    "\n",
    "# objective function\n",
    "cvar_weights_dict = ec.max_sharpe()\n",
    "ec.portfolio_performance(verbose=True)\n",
    "\n",
    "latest_prices = prices.iloc[-1]\n",
    "\n",
    "# here, weights should be an OrderedDict generated by an efficient_frontier class\n",
    "da = opt.DiscreteAllocation(cvar_weights_dict, latest_prices, total_portfolio_value=15000, short_ratio=None)\n",
    "\n",
    "# greedy portfolio vs. integer programming\n",
    "# greedy portfolio: buys as many shares as possible for each asset without going over desired weight, then bin packs the remainder, prioritising assets w/ the biggest diff. between their current weight and ideal weight\n",
    "# tradeoff between optimal and computational efficiency\n",
    "allocation, leftover = da.greedy_portfolio()\n",
    "\n",
    "cvar_weights_array = np.fromiter(cvar_weights_dict.values(), dtype=float)\n",
    "# std. dev.\n",
    "portfolio_volatility = np.sqrt(np.dot(cvar_weights_array.transpose(), np.dot(Sigma, cvar_weights_array)))\n",
    "\n",
    "\n",
    "print(f\"Discrete allocation (no. shares): {allocation}\")\n",
    "print(f\"Funds remaining: ${leftover:.2f}\")\n",
    "print(f'Portfolio volatility (standard deviation): {portfolio_volatility:.4f}')"
   ],
   "metadata": {
    "collapsed": false,
    "ExecuteTime": {
     "end_time": "2024-01-09T16:26:55.190784200Z",
     "start_time": "2024-01-09T16:26:54.457573100Z"
    }
   },
   "id": "5686e4c0b20c2cc0"
  },
  {
   "cell_type": "code",
   "execution_count": null,
   "outputs": [],
   "source": [
    "pd.Series(cvar_weights_dict).plot.pie()"
   ],
   "metadata": {
    "collapsed": false,
    "ExecuteTime": {
     "start_time": "2024-01-09T16:26:55.168778Z"
    }
   },
   "id": "888449030933c8e8"
  },
  {
   "cell_type": "code",
   "execution_count": null,
   "outputs": [],
   "source": [],
   "metadata": {
    "collapsed": false,
    "ExecuteTime": {
     "start_time": "2024-01-09T16:26:55.178776700Z"
    }
   },
   "id": "55a83a99d1b7d78d"
  }
 ],
 "metadata": {
  "kernelspec": {
   "display_name": "Python 3",
   "language": "python",
   "name": "python3"
  },
  "language_info": {
   "codemirror_mode": {
    "name": "ipython",
    "version": 2
   },
   "file_extension": ".py",
   "mimetype": "text/x-python",
   "name": "python",
   "nbconvert_exporter": "python",
   "pygments_lexer": "ipython2",
   "version": "2.7.6"
  }
 },
 "nbformat": 4,
 "nbformat_minor": 5
}
